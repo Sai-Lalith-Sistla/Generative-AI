{
 "cells": [
  {
   "cell_type": "markdown",
   "id": "90e4db12",
   "metadata": {},
   "source": [
    "# Semantic Search with Sentence Transformers\n",
    "\n",
    "Encode a collection of texts and retrieve the most semantically similar one to a given query."
   ]
  },
  {
   "cell_type": "code",
   "execution_count": 7,
   "id": "56354d71",
   "metadata": {},
   "outputs": [],
   "source": [
    "from sentence_transformers import SentenceTransformer, util\n",
    "import torch"
   ]
  },
  {
   "cell_type": "code",
   "execution_count": 2,
   "id": "24bfd540",
   "metadata": {},
   "outputs": [],
   "source": [
    "# Load pretrained Sentence-BERT model\n",
    "model = SentenceTransformer('all-MiniLM-L6-v2')\n",
    " \n",
    "# Corpus of documents to search\n",
    "corpus = [\n",
    "    \"The mitochondria is the powerhouse of the cell, generating ATP through cellular respiration.\",\n",
    "    \"A binary search algorithm efficiently locates an item in a sorted array by repeatedly dividing the search interval in half.\",\n",
    "    \"Inflation occurs when the general price level of goods and services rises, eroding purchasing power.\",\n",
    "    \"Cats are wonderful companions.\",\n",
    "    \"The French Revolution began in 1789 and led to profound social and political changes in France.\",\n",
    "    \"The Eiffel Tower is located in Paris.\",\n",
    "    \"Newton's first law states that an object at rest remains at rest unless acted upon by an external force.\",\n",
    "    \"Pawan Kalyan, often called the 'Power Star' for his dynamic presence in Telugu cinema, has proven to be a political powerhouse as well.\"\n",
    "\n",
    "]\n",
    " \n",
    "# Encode the corpus\n",
    "corpus_embeddings = model.encode(corpus, convert_to_tensor=True)\n",
    " \n"
   ]
  },
  {
   "cell_type": "code",
   "execution_count": 5,
   "id": "16f54e37",
   "metadata": {},
   "outputs": [],
   "source": [
    "def search_doc(query):\n",
    "    query_embedding = model.encode(query, convert_to_tensor=True)\n",
    " \n",
    "    # Compute cosine similarity\n",
    "    cos_scores = util.pytorch_cos_sim(query_embedding, corpus_embeddings)[0]\n",
    "    top_result = torch.topk(cos_scores, k=1)\n",
    "    \n",
    "    # Display best match\n",
    "    print(\"Query:\", query)\n",
    "    print(\"Most Relevant Document:\", corpus[top_result.indices[0].item()])\n",
    "    print(\"Score:\", top_result.values[0].item())"
   ]
  },
  {
   "cell_type": "code",
   "execution_count": null,
   "id": "759b2d83",
   "metadata": {},
   "outputs": [
    {
     "name": "stdout",
     "output_type": "stream",
     "text": [
      "Query: Where is the Eiffel Tower?\n",
      "Most Relevant Document: The Eiffel Tower is located in Paris.\n",
      "Score: 0.863134503364563\n"
     ]
    }
   ],
   "source": [
    "# Query input 1\n",
    "query = \"Where is the Eiffel Tower?\"\n",
    "search_doc(query)"
   ]
  },
  {
   "cell_type": "code",
   "execution_count": null,
   "id": "6d3120b2",
   "metadata": {},
   "outputs": [
    {
     "name": "stdout",
     "output_type": "stream",
     "text": [
      "Query: Who is the power house?\n",
      "Most Relevant Document: Pawan Kalyan, often called the 'Power Star' for his dynamic presence in Telugu cinema, has proven to be a political powerhouse as well.\n",
      "Score: 0.3438369929790497\n",
      "\n",
      "\n",
      "\n",
      "Query: Who is the powerhouse?\n",
      "Most Relevant Document: The mitochondria is the powerhouse of the cell, generating ATP through cellular respiration.\n",
      "Score: 0.35128575563430786\n",
      "\n",
      "\n",
      "\n",
      "Query: Diff between power house & powerhouse?\n",
      "Most Relevant Document: Pawan Kalyan, often called the 'Power Star' for his dynamic presence in Telugu cinema, has proven to be a political powerhouse as well.\n",
      "Score: 0.24223750829696655\n",
      "\n",
      "\n",
      "\n"
     ]
    }
   ],
   "source": [
    "# Query input 2 : Let's try to confuse the model\n",
    "query = \"Who is the power house?\"\n",
    "search_doc(query)\n",
    "print(\"\\n\\n\")\n",
    "\n",
    "query = \"Who is the powerhouse?\"\n",
    "search_doc(query)\n",
    "print(\"\\n\\n\")\n",
    "\n",
    "query = \"Diff between power house & powerhouse?\"\n",
    "search_doc(query)\n",
    "print(\"\\n\\n\")"
   ]
  }
 ],
 "metadata": {
  "kernelspec": {
   "display_name": "Python 3",
   "language": "python",
   "name": "python3"
  },
  "language_info": {
   "codemirror_mode": {
    "name": "ipython",
    "version": 3
   },
   "file_extension": ".py",
   "mimetype": "text/x-python",
   "name": "python",
   "nbconvert_exporter": "python",
   "pygments_lexer": "ipython3",
   "version": "3.10.11"
  }
 },
 "nbformat": 4,
 "nbformat_minor": 5
}
