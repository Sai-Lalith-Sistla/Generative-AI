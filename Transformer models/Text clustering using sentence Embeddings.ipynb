{
 "cells": [
  {
   "cell_type": "markdown",
   "id": "af0701b7",
   "metadata": {},
   "source": [
    "# Text Clustering using Sentence Embeddings\n",
    "\n",
    "This project performs unsupervised clustering of text documents using Sentence-BERT embeddings and KMeans. It helps organize similar texts without requiring labeled data."
   ]
  },
  {
   "cell_type": "code",
   "execution_count": 1,
   "id": "e7eaa1bf",
   "metadata": {},
   "outputs": [
    {
     "name": "stderr",
     "output_type": "stream",
     "text": [
      "c:\\Users\\saila\\AppData\\Local\\Programs\\Python\\Python310\\lib\\site-packages\\tqdm\\auto.py:21: TqdmWarning: IProgress not found. Please update jupyter and ipywidgets. See https://ipywidgets.readthedocs.io/en/stable/user_install.html\n",
      "  from .autonotebook import tqdm as notebook_tqdm\n"
     ]
    }
   ],
   "source": [
    "from sentence_transformers import SentenceTransformer\n",
    "from sklearn.cluster import KMeans\n",
    "import matplotlib.pyplot as plt\n",
    "import seaborn as sns"
   ]
  },
  {
   "cell_type": "code",
   "execution_count": 2,
   "id": "0f615274",
   "metadata": {},
   "outputs": [],
   "source": [
    "# Sample corpus\n",
    "corpus = [\n",
    "    \"I love pizza and pasta.\",\n",
    "    \"Burgers are my favorite food.\",\n",
    "    \"Cats are playful pets.\",\n",
    "    \"Dogs are loyal companions.\",\n",
    "    \"I'm learning machine learning.\",\n",
    "    \"Neural networks are fascinating.\",\n",
    "    \"Sushi is a traditional Japanese dish.\",\n",
    "    \"Transformers changed natural language processing.\",\n",
    "    \"I enjoy deep learning research.\",\n",
    "    \"Parrots can mimic human speech.\"\n",
    "]"
   ]
  },
  {
   "cell_type": "code",
   "execution_count": 3,
   "id": "386eaac0",
   "metadata": {},
   "outputs": [],
   "source": [
    "# Load Sentence-BERT model\n",
    "model = SentenceTransformer('all-MiniLM-L6-v2')\n",
    "embeddings = model.encode(corpus)"
   ]
  },
  {
   "cell_type": "code",
   "execution_count": 4,
   "id": "fec2d9ab",
   "metadata": {},
   "outputs": [],
   "source": [
    "# Apply KMeans clustering\n",
    "num_clusters = 3\n",
    "kmeans = KMeans(n_clusters=num_clusters, random_state=42)\n",
    "labels = kmeans.fit_predict(embeddings)"
   ]
  },
  {
   "cell_type": "code",
   "execution_count": 5,
   "id": "4c55304b",
   "metadata": {},
   "outputs": [
    {
     "name": "stdout",
     "output_type": "stream",
     "text": [
      "\n",
      "Clustered Sentences:\n",
      "\n",
      "Cluster 1:\n",
      "- Cats are playful pets.\n",
      "- Dogs are loyal companions.\n",
      "\n",
      "Cluster 2:\n",
      "- I'm learning machine learning.\n",
      "- Neural networks are fascinating.\n",
      "- Transformers changed natural language processing.\n",
      "- Parrots can mimic human speech.\n",
      "\n",
      "Cluster 3:\n",
      "- I love pizza and pasta.\n",
      "- Burgers are my favorite food.\n",
      "- Sushi is a traditional Japanese dish.\n",
      "- I enjoy deep learning research.\n"
     ]
    }
   ],
   "source": [
    "# Print clustered sentences\n",
    "print(\"\\nClustered Sentences:\")\n",
    "for i in range(num_clusters):\n",
    "    print(f\"\\nCluster {i + 1}:\")\n",
    "    for j, label in enumerate(labels):\n",
    "        if label == i:\n",
    "            print(\"-\", corpus[j])"
   ]
  }
 ],
 "metadata": {
  "kernelspec": {
   "display_name": "Python 3",
   "language": "python",
   "name": "python3"
  },
  "language_info": {
   "codemirror_mode": {
    "name": "ipython",
    "version": 3
   },
   "file_extension": ".py",
   "mimetype": "text/x-python",
   "name": "python",
   "nbconvert_exporter": "python",
   "pygments_lexer": "ipython3",
   "version": "3.10.11"
  }
 },
 "nbformat": 4,
 "nbformat_minor": 5
}
