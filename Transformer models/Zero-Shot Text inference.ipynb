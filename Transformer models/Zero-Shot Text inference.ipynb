{
 "cells": [
  {
   "cell_type": "markdown",
   "id": "becf36a0",
   "metadata": {},
   "source": [
    "# Zero-Shot Text Classification with NLI Models\n",
    "\n",
    "This Notebook experiments on Natural Language Inference (NLI) models like facebook/bart-large-mnli to perform zero-shot classification. Later we evaluate whether a text \"entails\" a label description without task-specific training."
   ]
  },
  {
   "cell_type": "code",
   "execution_count": 1,
   "id": "9fcd0adc",
   "metadata": {},
   "outputs": [
    {
     "name": "stderr",
     "output_type": "stream",
     "text": [
      "c:\\Users\\saila\\AppData\\Local\\Programs\\Python\\Python310\\lib\\site-packages\\tqdm\\auto.py:21: TqdmWarning: IProgress not found. Please update jupyter and ipywidgets. See https://ipywidgets.readthedocs.io/en/stable/user_install.html\n",
      "  from .autonotebook import tqdm as notebook_tqdm\n"
     ]
    }
   ],
   "source": [
    "from transformers import pipeline"
   ]
  },
  {
   "cell_type": "code",
   "execution_count": 2,
   "id": "f056a813",
   "metadata": {},
   "outputs": [
    {
     "name": "stderr",
     "output_type": "stream",
     "text": [
      "c:\\Users\\saila\\AppData\\Local\\Programs\\Python\\Python310\\lib\\site-packages\\huggingface_hub\\file_download.py:143: UserWarning: `huggingface_hub` cache-system uses symlinks by default to efficiently store duplicated files but your machine does not support them in C:\\Users\\saila\\.cache\\huggingface\\hub\\models--facebook--bart-large-mnli. Caching files will still work but in a degraded version that might require more space on your disk. This warning can be disabled by setting the `HF_HUB_DISABLE_SYMLINKS_WARNING` environment variable. For more details, see https://huggingface.co/docs/huggingface_hub/how-to-cache#limitations.\n",
      "To support symlinks on Windows, you either need to activate Developer Mode or to run Python as an administrator. In order to activate developer mode, see this article: https://docs.microsoft.com/en-us/windows/apps/get-started/enable-your-device-for-development\n",
      "  warnings.warn(message)\n",
      "Xet Storage is enabled for this repo, but the 'hf_xet' package is not installed. Falling back to regular HTTP download. For better performance, install the package with: `pip install huggingface_hub[hf_xet]` or `pip install hf_xet`\n",
      "Device set to use cuda:0\n"
     ]
    }
   ],
   "source": [
    "# Load zero-shot classification pipeline\n",
    "classifier = pipeline(\"zero-shot-classification\", model=\"facebook/bart-large-mnli\")"
   ]
  },
  {
   "cell_type": "code",
   "execution_count": 3,
   "id": "5e4f0819",
   "metadata": {},
   "outputs": [],
   "source": [
    "# Perform classification\n",
    "def perform_classification(text, candidate_labels):\n",
    "    result = classifier(text, candidate_labels)\n",
    "    # Show results\n",
    "    print(\"\\nTop Prediction:\")\n",
    "    print(f\"{result['labels'][0]} (score: {result['scores'][0]:.2f})\")\n",
    "    \n",
    "    print(\"\\nFull Rankings:\")\n",
    "    for label, score in zip(result['labels'], result['scores']):\n",
    "        print(f\"{label}: {score:.4f}\")\n"
   ]
  },
  {
   "cell_type": "code",
   "execution_count": 4,
   "id": "2a5913b4",
   "metadata": {},
   "outputs": [
    {
     "name": "stdout",
     "output_type": "stream",
     "text": [
      "\n",
      "Top Prediction:\n",
      "technology (score: 0.97)\n",
      "\n",
      "Full Rankings:\n",
      "technology: 0.9682\n",
      "education: 0.0161\n",
      "finance: 0.0060\n",
      "sports: 0.0050\n",
      "cooking: 0.0046\n"
     ]
    }
   ],
   "source": [
    "# Input text\n",
    "text = \"This course provides a great introduction to neural networks and deep learning.\"\n",
    " \n",
    "# Candidate labels (your custom categories)\n",
    "candidate_labels = [\"education\", \"technology\", \"sports\", \"finance\", \"cooking\"]\n",
    "\n",
    "perform_classification(text, candidate_labels)"
   ]
  },
  {
   "cell_type": "code",
   "execution_count": 5,
   "id": "c3e8b74a",
   "metadata": {},
   "outputs": [
    {
     "name": "stdout",
     "output_type": "stream",
     "text": [
      "\n",
      "Top Prediction:\n",
      "anime (score: 0.66)\n",
      "\n",
      "Full Rankings:\n",
      "anime: 0.6622\n",
      "pirate: 0.1956\n",
      "kids: 0.0418\n",
      "movie: 0.0355\n",
      "education: 0.0226\n",
      "technology: 0.0135\n",
      "cooking: 0.0106\n",
      "sports: 0.0099\n",
      "finance: 0.0084\n"
     ]
    }
   ],
   "source": [
    "# Input text\n",
    "text = \"\"\"\n",
    "Luffy wants to be the Pirate King. Zoro gets lost walking in a straight line. \n",
    "Sanji simps. Usopp lies. Nami steals. And One Piece still isn’t over.\n",
    "With over 1000 episodes, One Piece is a meme and a masterpiece at the same time.\n",
    "\"\"\"\n",
    " \n",
    "# Candidate labels (your custom categories)\n",
    "candidate_labels = [\"education\", \"technology\", \"sports\", \"finance\", \"cooking\", \"anime\", \"movie\", \"pirate\", \"kids\"]\n",
    "\n",
    "perform_classification(text, candidate_labels)"
   ]
  },
  {
   "cell_type": "code",
   "execution_count": null,
   "id": "ef1a562a",
   "metadata": {},
   "outputs": [],
   "source": []
  }
 ],
 "metadata": {
  "kernelspec": {
   "display_name": "Python 3",
   "language": "python",
   "name": "python3"
  },
  "language_info": {
   "codemirror_mode": {
    "name": "ipython",
    "version": 3
   },
   "file_extension": ".py",
   "mimetype": "text/x-python",
   "name": "python",
   "nbconvert_exporter": "python",
   "pygments_lexer": "ipython3",
   "version": "3.10.11"
  }
 },
 "nbformat": 4,
 "nbformat_minor": 5
}
