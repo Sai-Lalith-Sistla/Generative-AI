{
 "cells": [
  {
   "cell_type": "code",
   "execution_count": 1,
   "id": "ea7a0972",
   "metadata": {},
   "outputs": [
    {
     "name": "stderr",
     "output_type": "stream",
     "text": [
      "c:\\Users\\saila\\AppData\\Local\\Programs\\Python\\Python310\\lib\\site-packages\\tqdm\\auto.py:21: TqdmWarning: IProgress not found. Please update jupyter and ipywidgets. See https://ipywidgets.readthedocs.io/en/stable/user_install.html\n",
      "  from .autonotebook import tqdm as notebook_tqdm\n"
     ]
    }
   ],
   "source": [
    "from transformers import BertForQuestionAnswering, BertTokenizer\n",
    "import torch"
   ]
  },
  {
   "cell_type": "code",
   "execution_count": 2,
   "id": "0143d503",
   "metadata": {},
   "outputs": [
    {
     "name": "stderr",
     "output_type": "stream",
     "text": [
      "c:\\Users\\saila\\AppData\\Local\\Programs\\Python\\Python310\\lib\\site-packages\\huggingface_hub\\file_download.py:143: UserWarning: `huggingface_hub` cache-system uses symlinks by default to efficiently store duplicated files but your machine does not support them in C:\\Users\\saila\\.cache\\huggingface\\hub\\models--bert-large-uncased-whole-word-masking-finetuned-squad. Caching files will still work but in a degraded version that might require more space on your disk. This warning can be disabled by setting the `HF_HUB_DISABLE_SYMLINKS_WARNING` environment variable. For more details, see https://huggingface.co/docs/huggingface_hub/how-to-cache#limitations.\n",
      "To support symlinks on Windows, you either need to activate Developer Mode or to run Python as an administrator. In order to activate developer mode, see this article: https://docs.microsoft.com/en-us/windows/apps/get-started/enable-your-device-for-development\n",
      "  warnings.warn(message)\n",
      "Xet Storage is enabled for this repo, but the 'hf_xet' package is not installed. Falling back to regular HTTP download. For better performance, install the package with: `pip install huggingface_hub[hf_xet]` or `pip install hf_xet`\n",
      "Some weights of the model checkpoint at bert-large-uncased-whole-word-masking-finetuned-squad were not used when initializing BertForQuestionAnswering: ['bert.pooler.dense.bias', 'bert.pooler.dense.weight']\n",
      "- This IS expected if you are initializing BertForQuestionAnswering from the checkpoint of a model trained on another task or with another architecture (e.g. initializing a BertForSequenceClassification model from a BertForPreTraining model).\n",
      "- This IS NOT expected if you are initializing BertForQuestionAnswering from the checkpoint of a model that you expect to be exactly identical (initializing a BertForSequenceClassification model from a BertForSequenceClassification model).\n"
     ]
    }
   ],
   "source": [
    "# Load pretrained model and tokenizer\n",
    "model_name = \"bert-large-uncased-whole-word-masking-finetuned-squad\"\n",
    "tokenizer = BertTokenizer.from_pretrained(model_name)\n",
    "model = BertForQuestionAnswering.from_pretrained(model_name)"
   ]
  },
  {
   "cell_type": "code",
   "execution_count": 3,
   "id": "106477c9",
   "metadata": {},
   "outputs": [],
   "source": [
    "# Define context and question\n",
    "context1 = \"\"\"\n",
    "In the land where cinema is worshipped, a storm called RRR shook the nation. \n",
    "Directed by the visionary S.S. Rajamouli, this film united Jr. NTR and Ram Charan on the big screen for the first time. \n",
    "With breathtaking visuals and a gripping story, RRR became a cultural phenomenon.\n",
    "\"\"\"\n",
    "question1 = \"Which two actors starred together for the first time in RRR?\""
   ]
  },
  {
   "cell_type": "code",
   "execution_count": 4,
   "id": "fce9620d",
   "metadata": {},
   "outputs": [],
   "source": [
    "context2 = \"\"\"\n",
    "Luffy wants to be the Pirate King. Zoro gets lost walking in a straight line. \n",
    "Sanji simps. Usopp lies. Nami steals. And One Piece still isn’t over.\n",
    "With over 1000 episodes, One Piece is a meme and a masterpiece at the same time.\n",
    "\"\"\"\n",
    "question2 = \"What is Luffy’s dream in One Piece?\""
   ]
  },
  {
   "cell_type": "code",
   "execution_count": 5,
   "id": "6a0583a6",
   "metadata": {},
   "outputs": [],
   "source": [
    "def qna(question : str, context : str):\n",
    "    # Tokenize inputs\n",
    "    inputs = tokenizer.encode_plus(question, context, return_tensors=\"pt\")\n",
    "    input_ids = inputs[\"input_ids\"].tolist()[0]\n",
    "\n",
    "    # Predict start and end of answer\n",
    "    with torch.no_grad():\n",
    "        outputs = model(**inputs)\n",
    "        start_scores = outputs.start_logits\n",
    "        end_scores = outputs.end_logits\n",
    "\n",
    "    # Get the most probable start and end token positions\n",
    "    start = torch.argmax(start_scores)\n",
    "    end = torch.argmax(end_scores)\n",
    "\n",
    "    # Decode answer tokens\n",
    "    answer = tokenizer.convert_tokens_to_string(tokenizer.convert_ids_to_tokens(input_ids[start:end+1]))\n",
    "    print(\"Question:\", question)\n",
    "    print(\"Answer:\", answer)"
   ]
  },
  {
   "cell_type": "code",
   "execution_count": 6,
   "id": "dc5e44b5",
   "metadata": {},
   "outputs": [
    {
     "name": "stdout",
     "output_type": "stream",
     "text": [
      "Question: Which two actors starred together for the first time in RRR?\n",
      "Answer: jr . ntr and ram charan\n"
     ]
    }
   ],
   "source": [
    "qna(question1, context1)"
   ]
  },
  {
   "cell_type": "code",
   "execution_count": 7,
   "id": "f4bfe8d1",
   "metadata": {},
   "outputs": [
    {
     "name": "stdout",
     "output_type": "stream",
     "text": [
      "Question: What is Luffy’s dream in One Piece?\n",
      "Answer: to be the pirate king\n"
     ]
    }
   ],
   "source": [
    "qna(question2, context2)"
   ]
  },
  {
   "cell_type": "code",
   "execution_count": null,
   "id": "8429100e",
   "metadata": {},
   "outputs": [],
   "source": []
  }
 ],
 "metadata": {
  "kernelspec": {
   "display_name": "Python 3",
   "language": "python",
   "name": "python3"
  },
  "language_info": {
   "codemirror_mode": {
    "name": "ipython",
    "version": 3
   },
   "file_extension": ".py",
   "mimetype": "text/x-python",
   "name": "python",
   "nbconvert_exporter": "python",
   "pygments_lexer": "ipython3",
   "version": "3.10.11"
  }
 },
 "nbformat": 4,
 "nbformat_minor": 5
}
