{
 "cells": [
  {
   "cell_type": "markdown",
   "id": "5e1f7c41",
   "metadata": {},
   "source": [
    "# RAG\n",
    "\n",
    "#### this Notebook has the following\n",
    "1. document loading\n",
    "2. embedding\n",
    "3. vector storage\n",
    "4. retreival"
   ]
  },
  {
   "cell_type": "code",
   "execution_count": null,
   "id": "1b1abda9",
   "metadata": {},
   "outputs": [],
   "source": [
    "# pip install langchain-community"
   ]
  },
  {
   "cell_type": "code",
   "execution_count": null,
   "id": "0f66ba64-488a-4df0-be21-be4d743ebe93",
   "metadata": {},
   "outputs": [],
   "source": [
    "import os\n",
    "os.environ['OPENAI_API_KEY'] = \"\""
   ]
  },
  {
   "cell_type": "markdown",
   "id": "7a5503a6-6fa9-4678-b62b-c30beababac6",
   "metadata": {},
   "source": [
    "### Document Loading"
   ]
  },
  {
   "cell_type": "markdown",
   "id": "35d33507-18a4-4ee5-8621-5c5bcdd5ae09",
   "metadata": {},
   "source": [
    "#### Text"
   ]
  },
  {
   "cell_type": "code",
   "execution_count": null,
   "id": "24eb6f80-367e-4653-a2e3-d7cbdabd7df1",
   "metadata": {},
   "outputs": [],
   "source": [
    "from langchain_community.document_loaders import TextLoader\n",
    "\n",
    "loader = TextLoader(\"./files_for_RAG/LangchainRetrieval.txt\")\n",
    "loader.load()"
   ]
  },
  {
   "cell_type": "markdown",
   "id": "3e881d22-d458-4d11-bb63-cce488a264d5",
   "metadata": {},
   "source": [
    "#### PDF"
   ]
  },
  {
   "cell_type": "code",
   "execution_count": null,
   "id": "f4c237d2-7fe2-43ce-88c9-0ca47a7c608d",
   "metadata": {},
   "outputs": [],
   "source": [
    "# !pip install pypdf\n",
    "# !pip install unstructured"
   ]
  },
  {
   "cell_type": "code",
   "execution_count": null,
   "id": "04a672f3-62c6-496b-ba6b-4f3848f3ae15",
   "metadata": {},
   "outputs": [],
   "source": [
    "from langchain_community.document_loaders import PyPDFLoader\n",
    "\n",
    "loader = PyPDFLoader(\"./files_for_RAG/Excel_Course_Document.pdf\")\n",
    "pages = loader.load_and_split()"
   ]
  },
  {
   "cell_type": "code",
   "execution_count": null,
   "id": "33235a3e-a04c-4d20-8dff-9a227d8bbc95",
   "metadata": {},
   "outputs": [],
   "source": [
    "pages[1]"
   ]
  },
  {
   "cell_type": "markdown",
   "id": "fbf9e530-57cd-4903-a47e-f40dee21381a",
   "metadata": {},
   "source": [
    "#### Load Directories"
   ]
  },
  {
   "cell_type": "code",
   "execution_count": null,
   "id": "7c4f02ce-c6d4-4981-858b-94de631ce35a",
   "metadata": {},
   "outputs": [],
   "source": [
    "from langchain_community.document_loaders import DirectoryLoader\n",
    "\n",
    "loader = DirectoryLoader('./files_for_RAG/', glob=\"**/*.txt\")\n",
    "docs = loader.load()\n",
    "\n",
    "print(f\"Count documents : {len(docs)}\")\n",
    "docs[1]"
   ]
  },
  {
   "cell_type": "code",
   "execution_count": null,
   "id": "f62a4fdd-2437-4cee-892e-89fb48508664",
   "metadata": {},
   "outputs": [],
   "source": [
    "loader = DirectoryLoader('./files_for_RAG/', glob=\"**/*.txt\", show_progress=True)\n",
    "docs = loader.load()"
   ]
  },
  {
   "cell_type": "markdown",
   "id": "d5e6603f-c687-43d7-b64f-0cf82236a535",
   "metadata": {},
   "source": [
    "#### Load CSv"
   ]
  },
  {
   "cell_type": "code",
   "execution_count": null,
   "id": "5dc160fd-901d-43bf-be89-535c9c6b2d49",
   "metadata": {},
   "outputs": [],
   "source": [
    "from langchain_community.document_loaders.csv_loader import CSVLoader\n",
    "\n",
    "\n",
    "loader = CSVLoader(file_path='./files_for_RAG/Movie_collection_dataset.csv')\n",
    "data = loader.load()"
   ]
  },
  {
   "cell_type": "code",
   "execution_count": null,
   "id": "964539f7-682d-471d-bd9e-5273e2cc60bd",
   "metadata": {
    "scrolled": true
   },
   "outputs": [],
   "source": [
    "print(data)"
   ]
  },
  {
   "cell_type": "code",
   "execution_count": null,
   "id": "a36a6ac4-92cb-4bd4-bd6c-9ea6d24c6657",
   "metadata": {},
   "outputs": [],
   "source": [
    "loader = CSVLoader(file_path='./files_for_RAG/Movie_collection_dataset.csv', csv_args={\n",
    "    'delimiter': ',',\n",
    "    'quotechar': '\"',\n",
    "    'fieldnames': ['Genre', 'Budget', 'Actor_rating']\n",
    "})\n",
    "\n",
    "data = loader.load()"
   ]
  },
  {
   "cell_type": "markdown",
   "id": "d46541a8-3002-4bb8-83b5-da65ff083687",
   "metadata": {},
   "source": [
    "### Splitting the document - Chunking"
   ]
  },
  {
   "cell_type": "markdown",
   "id": "2603cc40-f593-4c2a-ac12-7a0629e9a8ab",
   "metadata": {},
   "source": [
    "#### Recursively split by character"
   ]
  },
  {
   "cell_type": "code",
   "execution_count": null,
   "id": "3e5b9674-97ed-491d-96c4-35e0712be9cc",
   "metadata": {},
   "outputs": [],
   "source": [
    "# %pip install -qU langchain-text-splitters"
   ]
  },
  {
   "cell_type": "code",
   "execution_count": null,
   "id": "d58c7989-94b4-421a-a38b-902446e6c27a",
   "metadata": {},
   "outputs": [],
   "source": [
    "from langchain_community.document_loaders import TextLoader\n",
    "\n",
    "loader = TextLoader(\"./files_for_RAG/LangchainRetrieval.txt\")\n",
    "text = loader.load()"
   ]
  },
  {
   "cell_type": "code",
   "execution_count": null,
   "id": "6519ac67-afb8-4cd0-b3e3-a22887477a65",
   "metadata": {
    "scrolled": true
   },
   "outputs": [],
   "source": [
    "text"
   ]
  },
  {
   "cell_type": "code",
   "execution_count": null,
   "id": "a183aab0-5887-4cc3-9e18-9728d7d26eb9",
   "metadata": {},
   "outputs": [],
   "source": [
    "from langchain_text_splitters import RecursiveCharacterTextSplitter"
   ]
  },
  {
   "cell_type": "code",
   "execution_count": null,
   "id": "48bd479e-1304-4ac3-97d9-e500f8bd1e25",
   "metadata": {},
   "outputs": [],
   "source": [
    "text_splitter = RecursiveCharacterTextSplitter(\n",
    "    chunk_size=200,\n",
    "    chunk_overlap=20,\n",
    "    length_function=len,\n",
    ")"
   ]
  },
  {
   "cell_type": "code",
   "execution_count": null,
   "id": "2cf36ebb-26fd-44e8-a528-236dc18a05ca",
   "metadata": {},
   "outputs": [],
   "source": [
    "texts = text_splitter.split_documents(text)\n",
    "print(texts[0])\n",
    "print(texts[1])\n",
    "print(texts[2])"
   ]
  },
  {
   "cell_type": "markdown",
   "id": "92ccf131-6d65-4234-9061-0f64b4f08edf",
   "metadata": {},
   "source": [
    "### Embedding"
   ]
  },
  {
   "cell_type": "markdown",
   "id": "4ba02952-93a4-440b-bcda-74bb6de75e8e",
   "metadata": {},
   "source": [
    "#### OpenAI embedding"
   ]
  },
  {
   "cell_type": "code",
   "execution_count": null,
   "id": "4af19587-8a3b-4562-9987-8e9b4fd653c1",
   "metadata": {},
   "outputs": [],
   "source": [
    "# pip install langchain-openai"
   ]
  },
  {
   "cell_type": "code",
   "execution_count": null,
   "id": "9422fdd0-d2c0-414f-845d-71f52cebea11",
   "metadata": {},
   "outputs": [],
   "source": [
    "from langchain_openai import OpenAIEmbeddings\n",
    "\n",
    "embeddings_model = OpenAIEmbeddings()"
   ]
  },
  {
   "cell_type": "code",
   "execution_count": null,
   "id": "3daa9e78-c9c8-4f45-9b75-54afe4dbc771",
   "metadata": {},
   "outputs": [],
   "source": [
    "embeddings = embeddings_model.embed_documents(\n",
    "    [\n",
    "        \"Hi\",\n",
    "        \"What's up!\",\n",
    "        \"Learning LangChain\"\n",
    "    ]\n",
    ")\n",
    "len(embeddings), len(embeddings[0])"
   ]
  },
  {
   "cell_type": "code",
   "execution_count": null,
   "id": "b9218715-2d32-4984-ac40-c3d30e055adb",
   "metadata": {
    "scrolled": true
   },
   "outputs": [],
   "source": [
    "embeddings[0]"
   ]
  },
  {
   "cell_type": "code",
   "execution_count": null,
   "id": "f80b801d-4385-45d0-813b-abfde0d7727b",
   "metadata": {},
   "outputs": [],
   "source": [
    "embedded_query = embeddings_model.embed_query(\"What was the name mentioned in the conversation?\")\n",
    "embedded_query[:5]"
   ]
  },
  {
   "cell_type": "markdown",
   "id": "01b96fde-9abb-4e14-addb-adbfd982e9a3",
   "metadata": {},
   "source": [
    "#### Huggingface embeddings"
   ]
  },
  {
   "cell_type": "code",
   "execution_count": null,
   "id": "cfda4d7e-b5d5-4735-9343-f2a9bf49f3bb",
   "metadata": {},
   "outputs": [],
   "source": [
    "# !pip install -U sentence-transformers\n",
    "# !pip install -U langchain-huggingface"
   ]
  },
  {
   "cell_type": "code",
   "execution_count": null,
   "id": "1f6cfe72-ace9-466c-9f78-255fa810284b",
   "metadata": {},
   "outputs": [],
   "source": [
    "from langchain_huggingface import HuggingFaceEmbeddings\n",
    "\n",
    "# Initialize instructor embeddings using the Hugging Face model\n",
    "embeddings_model = HuggingFaceEmbeddings(model_name=\"hkunlp/instructor-xl\")\n",
    "embedded_query = embeddings_model.embed_query(\"What was the name mentioned in the conversation?\")"
   ]
  },
  {
   "cell_type": "code",
   "execution_count": null,
   "id": "fade6737-564e-4ff2-bd6e-2b9f16ce9485",
   "metadata": {},
   "outputs": [],
   "source": []
  },
  {
   "cell_type": "markdown",
   "id": "9cba206c-313f-425e-bc04-5fb7df96c5bf",
   "metadata": {},
   "source": [
    "### Vector Storage"
   ]
  },
  {
   "cell_type": "markdown",
   "id": "41d900d5-867f-4c3f-b0ba-bb680f4e5fac",
   "metadata": {},
   "source": [
    "#### Chroma"
   ]
  },
  {
   "cell_type": "code",
   "execution_count": null,
   "id": "f5881838-286c-4461-90b7-b4b3d3443d95",
   "metadata": {},
   "outputs": [],
   "source": [
    "# !pip install langchain-chroma\n"
   ]
  },
  {
   "cell_type": "code",
   "execution_count": null,
   "id": "ea5d6eaf-0e3f-40c2-b78a-43a83125c94b",
   "metadata": {},
   "outputs": [],
   "source": [
    "from langchain_community.document_loaders import TextLoader\n",
    "from langchain_openai import OpenAIEmbeddings\n",
    "from langchain_text_splitters import CharacterTextSplitter\n",
    "from langchain_chroma import Chroma\n",
    "\n",
    "# Load the document, split it into chunks, embed each chunk and load it into the vector store.\n",
    "raw_documents = TextLoader(\"./files_for_RAG/LangchainRetrieval.txt\").load()\n",
    "text_splitter = CharacterTextSplitter(chunk_size=500, chunk_overlap=20)\n",
    "documents = text_splitter.split_documents(raw_documents)\n",
    "db = Chroma.from_documents(documents, OpenAIEmbeddings())"
   ]
  },
  {
   "cell_type": "code",
   "execution_count": null,
   "id": "0152786e-4f03-40e0-8592-5ac3b16bf6f8",
   "metadata": {},
   "outputs": [],
   "source": [
    "query = \"What is text embedding and how does langchain help in doing it\"\n",
    "docs = db.similarity_search(query)\n",
    "print(docs[1].page_content)"
   ]
  },
  {
   "cell_type": "code",
   "execution_count": null,
   "id": "9ebd9ac0-a7a7-4554-a1d8-c10423f0f33f",
   "metadata": {},
   "outputs": [],
   "source": [
    "embedding_vector = OpenAIEmbeddings().embed_query(query)\n",
    "docs = db.similarity_search_by_vector(embedding_vector)\n",
    "print(docs[0].page_content)"
   ]
  },
  {
   "cell_type": "code",
   "execution_count": null,
   "id": "6893b90c",
   "metadata": {},
   "outputs": [],
   "source": [
    "#####FAISS"
   ]
  },
  {
   "cell_type": "code",
   "execution_count": null,
   "id": "fdb84a4b-3fd6-42c5-a4b8-955fcbe78502",
   "metadata": {},
   "outputs": [],
   "source": [
    "# pip install faiss-cpu"
   ]
  },
  {
   "cell_type": "code",
   "execution_count": null,
   "id": "a42a0467-9169-47ad-b184-6242401d0015",
   "metadata": {},
   "outputs": [],
   "source": [
    "from langchain_community.document_loaders import TextLoader\n",
    "from langchain_openai import OpenAIEmbeddings\n",
    "from langchain_text_splitters import CharacterTextSplitter\n",
    "from langchain_community.vectorstores import FAISS\n",
    "\n",
    "# Load the document, split it into chunks, embed each chunk and load it into the vector store.\n",
    "raw_documents = TextLoader(\"./files_for_RAG/LangchainRetrieval.txt\").load()\n",
    "text_splitter = CharacterTextSplitter(chunk_size=1000, chunk_overlap=0)\n",
    "documents = text_splitter.split_documents(raw_documents)\n",
    "db = FAISS.from_documents(documents, OpenAIEmbeddings())"
   ]
  },
  {
   "cell_type": "markdown",
   "id": "52e47403-5ac0-487c-ba21-2ed9c2a0932d",
   "metadata": {},
   "source": [
    "## Retrievers"
   ]
  },
  {
   "cell_type": "code",
   "execution_count": null,
   "id": "379a0f56-3895-439d-96e2-9a686cf859b6",
   "metadata": {},
   "outputs": [],
   "source": [
    "from langchain_community.document_loaders import TextLoader\n",
    "from langchain_openai import OpenAIEmbeddings\n",
    "from langchain_text_splitters import RecursiveCharacterTextSplitter\n",
    "from langchain_chroma import Chroma\n",
    "\n",
    "# Load the document, split it into chunks, embed each chunk and load it into the vector store.\n",
    "raw_documents = TextLoader(\"./files_for_RAG/LangchainRetrieval.txt\").load()\n",
    "text_splitter = RecursiveCharacterTextSplitter(chunk_size=300, chunk_overlap=20)\n",
    "documents = text_splitter.split_documents(raw_documents)\n",
    "db = Chroma.from_documents(documents, OpenAIEmbeddings())"
   ]
  },
  {
   "cell_type": "code",
   "execution_count": null,
   "id": "232769a8-8bc7-4032-b130-824b26b6daef",
   "metadata": {},
   "outputs": [],
   "source": [
    "retriever = db.as_retriever()"
   ]
  },
  {
   "cell_type": "code",
   "execution_count": null,
   "id": "bf2b1aeb-d13c-4036-82bc-77ba310a7c70",
   "metadata": {},
   "outputs": [],
   "source": [
    "docs = retriever.invoke(\"What is text embedding and how does langchain help in doing it\")"
   ]
  },
  {
   "cell_type": "code",
   "execution_count": null,
   "id": "fd49eeb7-ee6d-47ae-87f7-bf10cab3e59f",
   "metadata": {},
   "outputs": [],
   "source": [
    "len(docs)"
   ]
  },
  {
   "cell_type": "code",
   "execution_count": null,
   "id": "902243c5-0ba7-4e0c-9d16-fcfe8eb9a047",
   "metadata": {},
   "outputs": [],
   "source": [
    "from langchain_openai import ChatOpenAI\n",
    "from langchain_core.prompts import ChatPromptTemplate\n",
    "from langchain_core.output_parsers import StrOutputParser\n",
    "from langchain_core.runnables import RunnablePassthrough\n",
    "\n",
    "template = \"\"\"Answer the question based only on the following context:\n",
    "\n",
    "{context}\n",
    "\n",
    "Question: {question}\n",
    "\"\"\"\n",
    "prompt = ChatPromptTemplate.from_template(template)\n",
    "model = ChatOpenAI()\n",
    "\n",
    "\n",
    "def format_docs(docs):\n",
    "    return \"\\n\\n\".join([d.page_content for d in docs])\n",
    "\n",
    "\n",
    "chain = (\n",
    "    {\"context\": retriever | format_docs, \"question\": RunnablePassthrough()}\n",
    "    | prompt\n",
    "    | model\n",
    "    | StrOutputParser()\n",
    ")\n",
    "\n",
    "chain.invoke(\"What is text embedding and how does langchain help in doing it\")\n"
   ]
  },
  {
   "cell_type": "code",
   "execution_count": null,
   "id": "081a7beb-1e56-488d-9dc1-a1b417495a0a",
   "metadata": {},
   "outputs": [],
   "source": [
    "retriever = db.as_retriever(search_kwargs={\"k\": 1})"
   ]
  },
  {
   "cell_type": "code",
   "execution_count": null,
   "id": "dcb6724a-d0b5-4355-8fa1-048d998d62a1",
   "metadata": {},
   "outputs": [],
   "source": [
    "docs = retriever.invoke(\"What is text embedding and how does langchain help in doing it\")"
   ]
  },
  {
   "cell_type": "code",
   "execution_count": null,
   "id": "520309dd-5f14-44f5-a4cb-011c9cce38f0",
   "metadata": {},
   "outputs": [],
   "source": [
    "docs"
   ]
  },
  {
   "cell_type": "code",
   "execution_count": null,
   "id": "d94324a9-0c46-4b7d-b51d-e47c3e23e601",
   "metadata": {},
   "outputs": [],
   "source": [
    "retriever = db.as_retriever(\n",
    "    search_type=\"similarity_score_threshold\", search_kwargs={\"score_threshold\": 0.8}\n",
    ")"
   ]
  },
  {
   "cell_type": "code",
   "execution_count": null,
   "id": "f6900c24-38a2-427e-977a-9ebfd76e586a",
   "metadata": {},
   "outputs": [],
   "source": [
    "docs = retriever.invoke(\"What is text embedding and how does langchain help in doing it\")"
   ]
  },
  {
   "cell_type": "code",
   "execution_count": null,
   "id": "475d1e57-a0f2-4a48-8d06-a7cc337c6672",
   "metadata": {},
   "outputs": [],
   "source": [
    "docs"
   ]
  }
 ],
 "metadata": {
  "kernelspec": {
   "display_name": "Python 3",
   "language": "python",
   "name": "python3"
  },
  "language_info": {
   "codemirror_mode": {
    "name": "ipython",
    "version": 3
   },
   "file_extension": ".py",
   "mimetype": "text/x-python",
   "name": "python",
   "nbconvert_exporter": "python",
   "pygments_lexer": "ipython3",
   "version": "3.10.11"
  }
 },
 "nbformat": 4,
 "nbformat_minor": 5
}
