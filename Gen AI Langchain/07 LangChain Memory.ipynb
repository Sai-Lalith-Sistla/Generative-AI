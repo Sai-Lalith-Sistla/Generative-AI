{
 "cells": [
  {
   "cell_type": "code",
   "execution_count": null,
   "id": "72238a05",
   "metadata": {},
   "outputs": [],
   "source": [
    "import os\n",
    "os.environ['OPENAI_API_KEY'] = \"\""
   ]
  },
  {
   "cell_type": "markdown",
   "id": "92c28ecf-a3b2-44f7-a149-dabb71c6b4d0",
   "metadata": {},
   "source": [
    "## Memory"
   ]
  },
  {
   "cell_type": "code",
   "execution_count": 55,
   "id": "8f203d72-fdde-43c4-92c3-68c70353e9d1",
   "metadata": {},
   "outputs": [
    {
     "name": "stdout",
     "output_type": "stream",
     "text": [
      "\n",
      "\n",
      "\u001b[1m> Entering new LLMChain chain...\u001b[0m\n",
      "Prompt after formatting:\n",
      "\u001b[32;1m\u001b[1;3mYou are having a chat with a human.\n",
      "    previous chat: \n",
      "    Human: Which country is the biggest exporter of cotton?\n",
      "    Assistant: \u001b[0m\n",
      "\n",
      "\u001b[1m> Finished chain.\u001b[0m\n"
     ]
    },
    {
     "data": {
      "text/plain": [
       "{'new_input': 'Which country is the biggest exporter of cotton?',\n",
       " 'history': '',\n",
       " 'text': 'As of 2021, the biggest exporter of cotton is India.'}"
      ]
     },
     "execution_count": 55,
     "metadata": {},
     "output_type": "execute_result"
    }
   ],
   "source": [
    "from langchain import PromptTemplate\n",
    "from langchain_openai import OpenAI\n",
    "from langchain_openai import ChatOpenAI\n",
    "from langchain.chains import LLMChain\n",
    "from langchain.memory import ConversationBufferMemory\n",
    "\n",
    "prompt_template = PromptTemplate(\n",
    "    input_variables =[\"history\", \"new_input\"],\n",
    "    template = \"\"\"You are having a chat with a human.\n",
    "    previous chat: {history}\n",
    "    Human: {new_input}\n",
    "    Assistant: \"\"\"\n",
    ")\n",
    "\n",
    "memory = ConversationBufferMemory()\n",
    "\n",
    "#llm = ChatOpenAI()\n",
    "llm = OpenAI()\n",
    "\n",
    "chain = LLMChain(llm=llm, prompt=prompt_template, memory = memory, verbose=True)\n",
    "\n",
    "chain.invoke({\"new_input\": \"Which country is the biggest exporter of cotton?\"})\n"
   ]
  },
  {
   "cell_type": "code",
   "execution_count": 56,
   "id": "7151cef3-e19b-43f5-80ed-5c6faf0ff76e",
   "metadata": {},
   "outputs": [
    {
     "name": "stdout",
     "output_type": "stream",
     "text": [
      "\n",
      "\n",
      "\u001b[1m> Entering new LLMChain chain...\u001b[0m\n",
      "Prompt after formatting:\n",
      "\u001b[32;1m\u001b[1;3mYou are having a chat with a human.\n",
      "    previous chat: Human: Which country is the biggest exporter of cotton?\n",
      "AI: As of 2021, the biggest exporter of cotton is India.\n",
      "    Human: What is the total value of cotton exports of this country\n",
      "    Assistant: \u001b[0m\n",
      "\n",
      "\u001b[1m> Finished chain.\u001b[0m\n"
     ]
    },
    {
     "data": {
      "text/plain": [
       "{'new_input': 'What is the total value of cotton exports of this country',\n",
       " 'history': 'Human: Which country is the biggest exporter of cotton?\\nAI: As of 2021, the biggest exporter of cotton is India.',\n",
       " 'text': \"In 2020, India's total value of cotton exports was approximately $6.3 billion USD.\"}"
      ]
     },
     "execution_count": 56,
     "metadata": {},
     "output_type": "execute_result"
    }
   ],
   "source": [
    "chain.invoke({\"new_input\": \"What is the total value of cotton exports of this country\"})"
   ]
  },
  {
   "cell_type": "code",
   "execution_count": 57,
   "id": "e2fa6dda-92e3-40ee-a063-7d875b4c7b93",
   "metadata": {},
   "outputs": [
    {
     "name": "stdout",
     "output_type": "stream",
     "text": [
      "\n",
      "\n",
      "\u001b[1m> Entering new LLMChain chain...\u001b[0m\n",
      "Prompt after formatting:\n",
      "\u001b[32;1m\u001b[1;3mSystem: You are having a chat with a human.\n",
      "Human: Which country is the biggest exporter of cotton?\u001b[0m\n",
      "\n",
      "\u001b[1m> Finished chain.\u001b[0m\n"
     ]
    },
    {
     "data": {
      "text/plain": [
       "{'new_input': 'Which country is the biggest exporter of cotton?',\n",
       " 'history': [HumanMessage(content='Which country is the biggest exporter of cotton?'),\n",
       "  AIMessage(content='The largest exporter of cotton in the world is the United States. The U.S. is known for producing large quantities of high-quality cotton, which is exported to many countries around the world.')],\n",
       " 'text': 'The largest exporter of cotton in the world is the United States. The U.S. is known for producing large quantities of high-quality cotton, which is exported to many countries around the world.'}"
      ]
     },
     "execution_count": 57,
     "metadata": {},
     "output_type": "execute_result"
    }
   ],
   "source": [
    "from langchain_core.messages import SystemMessage\n",
    "from langchain_core.prompts import (\n",
    "    ChatPromptTemplate,\n",
    "    HumanMessagePromptTemplate,\n",
    "    MessagesPlaceholder,\n",
    ")\n",
    "from langchain_openai import ChatOpenAI\n",
    "\n",
    "chat_prompt = ChatPromptTemplate.from_messages(\n",
    "    [\n",
    "        SystemMessage(\n",
    "            content=\"You are having a chat with a human.\"\n",
    "        ), \n",
    "        MessagesPlaceholder(\n",
    "            variable_name=\"history\"\n",
    "        ),\n",
    "        HumanMessagePromptTemplate.from_template(\n",
    "            \"{new_input}\"\n",
    "        ),  \n",
    "    ]\n",
    ")\n",
    "\n",
    "chat_memory = ConversationBufferMemory(return_messages=True)\n",
    "\n",
    "chat_llm = ChatOpenAI()\n",
    "\n",
    "chat_chain = LLMChain(llm=chat_llm, prompt=chat_prompt, memory = chat_memory, verbose=True)\n",
    "\n",
    "chat_chain.invoke({\"new_input\": \"Which country is the biggest exporter of cotton?\"})"
   ]
  },
  {
   "cell_type": "code",
   "execution_count": 58,
   "id": "4da3a653-8ad4-4335-ac19-89dfeb707fd2",
   "metadata": {},
   "outputs": [
    {
     "name": "stdout",
     "output_type": "stream",
     "text": [
      "\n",
      "\n",
      "\u001b[1m> Entering new LLMChain chain...\u001b[0m\n",
      "Prompt after formatting:\n",
      "\u001b[32;1m\u001b[1;3mSystem: You are having a chat with a human.\n",
      "Human: Which country is the biggest exporter of cotton?\n",
      "AI: The largest exporter of cotton in the world is the United States. The U.S. is known for producing large quantities of high-quality cotton, which is exported to many countries around the world.\n",
      "Human: What is the total value of cotton exports of this country\u001b[0m\n",
      "\n",
      "\u001b[1m> Finished chain.\u001b[0m\n"
     ]
    },
    {
     "data": {
      "text/plain": [
       "{'new_input': 'What is the total value of cotton exports of this country',\n",
       " 'history': [HumanMessage(content='Which country is the biggest exporter of cotton?'),\n",
       "  AIMessage(content='The largest exporter of cotton in the world is the United States. The U.S. is known for producing large quantities of high-quality cotton, which is exported to many countries around the world.'),\n",
       "  HumanMessage(content='What is the total value of cotton exports of this country'),\n",
       "  AIMessage(content='The total value of cotton exports from the United States varies from year to year depending on factors such as crop yield, global demand, and market prices. In recent years, the value of U.S. cotton exports has been around $5-6 billion annually.')],\n",
       " 'text': 'The total value of cotton exports from the United States varies from year to year depending on factors such as crop yield, global demand, and market prices. In recent years, the value of U.S. cotton exports has been around $5-6 billion annually.'}"
      ]
     },
     "execution_count": 58,
     "metadata": {},
     "output_type": "execute_result"
    }
   ],
   "source": [
    "chat_chain.invoke({\"new_input\": \"What is the total value of cotton exports of this country\"})"
   ]
  },
  {
   "cell_type": "markdown",
   "id": "3ec49148-a412-415d-949f-d9d29c43f935",
   "metadata": {},
   "source": [
    "#### Changing the memory variable name"
   ]
  },
  {
   "cell_type": "code",
   "execution_count": 60,
   "id": "0ede194f-5de6-4a3e-a3c7-84f5df9daf45",
   "metadata": {},
   "outputs": [
    {
     "name": "stdout",
     "output_type": "stream",
     "text": [
      "\n",
      "\n",
      "\u001b[1m> Entering new LLMChain chain...\u001b[0m\n",
      "Prompt after formatting:\n",
      "\u001b[32;1m\u001b[1;3mSystem: You are having a chat with a human.\n",
      "Human: Which country is the biggest exporter of cotton?\u001b[0m\n",
      "\n",
      "\u001b[1m> Finished chain.\u001b[0m\n"
     ]
    },
    {
     "data": {
      "text/plain": [
       "{'new_input': 'Which country is the biggest exporter of cotton?',\n",
       " 'prev_conv': [HumanMessage(content='Which country is the biggest exporter of cotton?'),\n",
       "  AIMessage(content='The biggest exporter of cotton in the world is the United States.')],\n",
       " 'text': 'The biggest exporter of cotton in the world is the United States.'}"
      ]
     },
     "execution_count": 60,
     "metadata": {},
     "output_type": "execute_result"
    }
   ],
   "source": [
    "chat_prompt = ChatPromptTemplate.from_messages(\n",
    "    [\n",
    "        SystemMessage(\n",
    "            content=\"You are having a chat with a human.\"\n",
    "        ), \n",
    "        MessagesPlaceholder(\n",
    "            variable_name=\"prev_conv\"\n",
    "        ),\n",
    "        HumanMessagePromptTemplate.from_template(\n",
    "            \"{new_input}\"\n",
    "        ),  \n",
    "    ]\n",
    ")\n",
    "\n",
    "chat_memory = ConversationBufferMemory(memory_key=\"prev_conv\", return_messages=True)\n",
    "\n",
    "chat_llm = ChatOpenAI()\n",
    "\n",
    "chat_chain = LLMChain(llm=chat_llm, prompt=chat_prompt, memory = chat_memory, verbose=True)\n",
    "\n",
    "chat_chain.invoke({\"new_input\": \"Which country is the biggest exporter of cotton?\"})"
   ]
  },
  {
   "cell_type": "markdown",
   "id": "d22d6afd-761b-416e-9bb1-800c6eeb58f1",
   "metadata": {},
   "source": [
    "#### Adding messages to memory"
   ]
  },
  {
   "cell_type": "code",
   "execution_count": 61,
   "id": "26466d19-6293-45df-8fa6-776afad26f52",
   "metadata": {},
   "outputs": [],
   "source": [
    "sample_memory = ConversationBufferMemory(memory_key=\"history\")"
   ]
  },
  {
   "cell_type": "code",
   "execution_count": 62,
   "id": "8df409b3-14b1-455c-8357-8902fcb18ffb",
   "metadata": {},
   "outputs": [
    {
     "data": {
      "text/plain": [
       "{'history': ''}"
      ]
     },
     "execution_count": 62,
     "metadata": {},
     "output_type": "execute_result"
    }
   ],
   "source": [
    "sample_memory.load_memory_variables({})"
   ]
  },
  {
   "cell_type": "code",
   "execution_count": 63,
   "id": "ba78ec3f-b168-420f-b281-5edb5127e384",
   "metadata": {},
   "outputs": [],
   "source": [
    "sample_memory.chat_memory.add_user_message(\"Which country is the biggest exporter of cotton?\")\n",
    "sample_memory.chat_memory.add_ai_message(\"China\")"
   ]
  },
  {
   "cell_type": "code",
   "execution_count": 64,
   "id": "ed69ebc7-844e-48b2-9dad-6383eaf6bdb8",
   "metadata": {},
   "outputs": [
    {
     "data": {
      "text/plain": [
       "{'history': 'Human: Which country is the biggest exporter of cotton?\\nAI: China'}"
      ]
     },
     "execution_count": 64,
     "metadata": {},
     "output_type": "execute_result"
    }
   ],
   "source": [
    "sample_memory.load_memory_variables({})"
   ]
  },
  {
   "cell_type": "code",
   "execution_count": 65,
   "id": "e010ea01-208d-4af2-b1ae-172e3174b3fd",
   "metadata": {},
   "outputs": [],
   "source": [
    "from langchain import PromptTemplate\n",
    "from langchain_openai import OpenAI\n",
    "from langchain_openai import ChatOpenAI\n",
    "from langchain.chains import LLMChain\n",
    "from langchain.memory import ConversationBufferMemory\n",
    "\n",
    "prompt_template = PromptTemplate(\n",
    "    input_variables =[\"history\", \"new_input\"],\n",
    "    template = \"\"\"You are having a chat with a human.\n",
    "    previous chat: {history}\n",
    "    Human: {new_input}\n",
    "    Assistant: \"\"\"\n",
    ")\n",
    "\n",
    "\n",
    "llm = ChatOpenAI()\n",
    "\n",
    "chain = LLMChain(llm=llm, prompt=prompt_template, memory = sample_memory, verbose=True)\n"
   ]
  },
  {
   "cell_type": "code",
   "execution_count": 66,
   "id": "87751b1e-61fa-4cf4-9ff2-4d64442894a3",
   "metadata": {},
   "outputs": [
    {
     "name": "stdout",
     "output_type": "stream",
     "text": [
      "\n",
      "\n",
      "\u001b[1m> Entering new LLMChain chain...\u001b[0m\n",
      "Prompt after formatting:\n",
      "\u001b[32;1m\u001b[1;3mYou are having a chat with a human.\n",
      "    previous chat: Human: Which country is the biggest exporter of cotton?\n",
      "AI: China\n",
      "    Human: What is the total value of cotton exports of this country\n",
      "    Assistant: \u001b[0m\n",
      "\n",
      "\u001b[1m> Finished chain.\u001b[0m\n"
     ]
    },
    {
     "data": {
      "text/plain": [
       "{'new_input': 'What is the total value of cotton exports of this country',\n",
       " 'history': 'Human: Which country is the biggest exporter of cotton?\\nAI: China',\n",
       " 'text': 'I am not sure about the exact total value of cotton exports from China. Would you like me to look it up for you?'}"
      ]
     },
     "execution_count": 66,
     "metadata": {},
     "output_type": "execute_result"
    }
   ],
   "source": [
    "chain.invoke({\"new_input\": \"What is the total value of cotton exports of this country\"})"
   ]
  }
 ],
 "metadata": {
  "kernelspec": {
   "display_name": "Python 3 (ipykernel)",
   "language": "python",
   "name": "python3"
  },
  "language_info": {
   "codemirror_mode": {
    "name": "ipython",
    "version": 3
   },
   "file_extension": ".py",
   "mimetype": "text/x-python",
   "name": "python",
   "nbconvert_exporter": "python",
   "pygments_lexer": "ipython3",
   "version": "3.12.4"
  }
 },
 "nbformat": 4,
 "nbformat_minor": 5
}
