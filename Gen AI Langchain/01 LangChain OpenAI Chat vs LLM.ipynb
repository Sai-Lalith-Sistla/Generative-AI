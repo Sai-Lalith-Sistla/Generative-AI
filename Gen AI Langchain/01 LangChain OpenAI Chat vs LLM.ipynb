{
 "cells": [
  {
   "cell_type": "code",
   "execution_count": null,
   "id": "42d648fb",
   "metadata": {},
   "outputs": [],
   "source": [
    "import os\n",
    "os.environ['OPENAI_API_KEY'] = \"\""
   ]
  },
  {
   "cell_type": "code",
   "execution_count": null,
   "id": "a30135ac",
   "metadata": {},
   "outputs": [],
   "source": [
    "from langchain_openai import OpenAI\n",
    "llm = OpenAI()\n",
    "city = llm.predict(\"I want to go skiing. Which city should I go to?\")\n",
    "print(city)"
   ]
  },
  {
   "cell_type": "code",
   "execution_count": null,
   "id": "72aab895",
   "metadata": {},
   "outputs": [],
   "source": [
    "places = llm.predict(\"What else can I do in that city?\")\n",
    "print(places)"
   ]
  },
  {
   "cell_type": "code",
   "execution_count": null,
   "id": "cc48cb67",
   "metadata": {},
   "outputs": [],
   "source": [
    "messages = [\n",
    "    (\n",
    "        \"system\",\n",
    "        \"You are a helpful AI that helps the user make travel plans. Respond only in ble line.\",\n",
    "    ),\n",
    "    (\"human\", \"I want to go skiing. Which city should I go to?\"),\n",
    "    (\"ai\", \"You should consider visiting Aspen, Colorado for a great skiing experience.\"),\n",
    "    (\"human\", \"What else can I do in that city?\"),\n",
    "]\n",
    "ai_msg = chat.invoke(messages)\n",
    "print(ai_msg.content)"
   ]
  }
 ],
 "metadata": {
  "language_info": {
   "name": "python"
  }
 },
 "nbformat": 4,
 "nbformat_minor": 5
}
