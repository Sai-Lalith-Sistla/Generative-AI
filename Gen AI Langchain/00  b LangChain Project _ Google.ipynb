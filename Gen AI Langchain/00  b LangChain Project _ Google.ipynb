{
 "cells": [
  {
   "cell_type": "markdown",
   "id": "0f68b50c",
   "metadata": {},
   "source": [
    "#### Google Generative AI API"
   ]
  },
  {
   "cell_type": "code",
   "execution_count": null,
   "id": "370e9b47",
   "metadata": {},
   "outputs": [],
   "source": [
    "%pip install langchain-google-genai"
   ]
  },
  {
   "cell_type": "code",
   "execution_count": null,
   "id": "4c193d39",
   "metadata": {},
   "outputs": [],
   "source": [
    "#os.environ['GOOGLE_API_KEY'] = \"\""
   ]
  },
  {
   "cell_type": "code",
   "execution_count": null,
   "id": "4f8057ae",
   "metadata": {},
   "outputs": [],
   "source": [
    "from langchain_google_genai import ChatGoogleGenerativeAI\n",
    "chat = ChatGoogleGenerativeAI(model=\"gemini-pro\", convert_system_message_to_human=True)"
   ]
  },
  {
   "cell_type": "code",
   "execution_count": null,
   "id": "f7065eb0",
   "metadata": {},
   "outputs": [],
   "source": [
    "messages = [\n",
    "    (\n",
    "        \"system\",\n",
    "        \"You are a helpful AI that helps the user make travel plans. Respond only in a single line.\",\n",
    "    ),\n",
    "    (\"human\", \"I want to go skiing. Which city should I go to?\"),\n",
    "]\n",
    "first_msg = chat.invoke(messages)\n",
    "first_msg"
   ]
  },
  {
   "cell_type": "code",
   "execution_count": null,
   "id": "848c81aa",
   "metadata": {},
   "outputs": [],
   "source": [
    "print(first_msg.content)"
   ]
  }
 ],
 "metadata": {
  "language_info": {
   "name": "python"
  }
 },
 "nbformat": 4,
 "nbformat_minor": 5
}
