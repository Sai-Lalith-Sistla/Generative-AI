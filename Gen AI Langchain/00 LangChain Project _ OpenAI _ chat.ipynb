{
 "cells": [
  {
   "cell_type": "markdown",
   "id": "2a770060",
   "metadata": {},
   "source": [
    "## Creating your first LangChain project"
   ]
  },
  {
   "cell_type": "code",
   "execution_count": null,
   "id": "de63ba12",
   "metadata": {},
   "outputs": [],
   "source": [
    "import os\n",
    "os.environ['OPENAI_API_KEY'] = \"\""
   ]
  },
  {
   "cell_type": "code",
   "execution_count": null,
   "id": "bada174c",
   "metadata": {},
   "outputs": [],
   "source": [
    "from langchain_openai import ChatOpenAI\n",
    "from langchain.schema import HumanMessage, SystemMessage, AIMessage"
   ]
  },
  {
   "cell_type": "code",
   "execution_count": null,
   "id": "516fe17a",
   "metadata": {},
   "outputs": [],
   "source": [
    "chat = ChatOpenAI()"
   ]
  },
  {
   "cell_type": "code",
   "execution_count": null,
   "id": "75f6db04",
   "metadata": {},
   "outputs": [],
   "source": [
    "messages = [\n",
    "    (\n",
    "        \"system\",\n",
    "        \"You are a helpful AI that helps the user make travel plans. Respond only in a single line.\",\n",
    "    ),\n",
    "    (\"human\", \"I want to go skiing. Which city should I go to?\"),\n",
    "]\n",
    "first_msg = chat.invoke(messages)\n",
    "first_msg"
   ]
  },
  {
   "cell_type": "code",
   "execution_count": null,
   "id": "c14f4010",
   "metadata": {},
   "outputs": [],
   "source": [
    "print(first_msg.content)"
   ]
  },
  {
   "cell_type": "code",
   "execution_count": null,
   "id": "eda63c68",
   "metadata": {},
   "outputs": [],
   "source": [
    "print(first_msg.usage_metadata[\"total_tokens\"])"
   ]
  }
 ],
 "metadata": {
  "language_info": {
   "name": "python"
  }
 },
 "nbformat": 4,
 "nbformat_minor": 5
}
